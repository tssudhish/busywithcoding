{
 "cells": [
  {
   "cell_type": "code",
   "execution_count": 42,
   "metadata": {},
   "outputs": [],
   "source": [
    "import os\n",
    "import numpy as np\n"
   ]
  },
  {
   "cell_type": "markdown",
   "metadata": {},
   "source": [
    "### Initialize Grid Data"
   ]
  },
  {
   "cell_type": "code",
   "execution_count": 104,
   "metadata": {},
   "outputs": [],
   "source": [
    "def check_for_location(x,y,n):\n",
    "    global grid\n",
    "    # check row-wise, \n",
    "    for col in range(9):\n",
    "        if grid[x][col] == n:\n",
    "            return False\n",
    "    \n",
    "    # check col-wise\n",
    "    for row in range(9):\n",
    "        if grid[row][y] == n:\n",
    "            return False\n",
    "    \n",
    "    # check in box:\n",
    "    for row in range((x//3)*3,(x//3)*3+3):\n",
    "        for col in range((y//3)*3,(y//3)*3+3):\n",
    "            if grid[row][col] ==n:\n",
    "                return False\n",
    "    return True\n",
    "    "
   ]
  },
  {
   "cell_type": "markdown",
   "metadata": {},
   "source": [
    "x=1\n",
    "y=2\n",
    "for n in range(1,10):\n",
    "    if check_for_location(x,y,n):\n",
    "        print(\"({},{})={}\".format(x,y,n))\n",
    "        grid[x][y]=n\n",
    "        print(grid)\n",
    "    "
   ]
  },
  {
   "cell_type": "code",
   "execution_count": 110,
   "metadata": {},
   "outputs": [],
   "source": [
    "def solve():\n",
    "    global grid\n",
    "    # print(\"There are {} zeros in grid\".format(grid.size - np.count_nonzero(grid)))\n",
    "    for x in range(9):\n",
    "        for y in range(9):\n",
    "            if grid[x][y]==0:\n",
    "                for n in range(1,10):\n",
    "                    if check_for_location(x,y,n):\n",
    "                        grid[x][y]=n\n",
    "                        # print(grid)\n",
    "                        #input(\"Continue?\")\n",
    "                        solve()\n",
    "                        grid[x][y]=0\n",
    "                return\n",
    "    print(\"Output Grid Solution:\")\n",
    "    print(grid)\n",
    "    input(\"More?\")"
   ]
  },
  {
   "cell_type": "code",
   "execution_count": 114,
   "metadata": {},
   "outputs": [
    {
     "name": "stdout",
     "output_type": "stream",
     "text": [
      "Input Grid\n",
      "[[0 0 0 2 6 0 7 0 1]\n",
      " [6 8 0 0 7 0 0 9 0]\n",
      " [1 9 0 0 0 4 5 0 0]\n",
      " [8 2 0 1 0 0 0 4 0]\n",
      " [0 0 4 6 0 2 0 0 0]\n",
      " [0 5 0 0 0 3 0 2 8]\n",
      " [0 0 9 3 0 0 0 7 4]\n",
      " [0 4 0 0 5 0 0 3 6]\n",
      " [7 0 3 0 1 8 0 0 0]]\n",
      "Output Grid Solution:\n",
      "[[4 3 5 2 6 9 7 8 1]\n",
      " [6 8 2 5 7 1 4 9 3]\n",
      " [1 9 7 8 3 4 5 6 2]\n",
      " [8 2 6 1 9 5 3 4 7]\n",
      " [3 7 4 6 8 2 9 1 5]\n",
      " [9 5 1 7 4 3 6 2 8]\n",
      " [5 1 9 3 2 6 8 7 4]\n",
      " [2 4 8 9 5 7 1 3 6]\n",
      " [7 6 3 4 1 8 2 5 9]]\n",
      "More?y\n"
     ]
    }
   ],
   "source": [
    "grid=np.zeros((9,9),dtype=int)\n",
    "grid[0][3]=2\n",
    "grid[0][4]=6\n",
    "grid[0][6]=7\n",
    "grid[0][8]=1\n",
    "grid[1][0]=6\n",
    "grid[1][1]=8\n",
    "grid[1][4]=7\n",
    "grid[1][7]=9\n",
    "grid[2][0]=1\n",
    "grid[2][1]=9\n",
    "grid[2][5]=4\n",
    "grid[2][6]=5\n",
    "grid[3][0]=8\n",
    "grid[3][1]=2\n",
    "grid[3][3]=1\n",
    "grid[3][7]=4\n",
    "grid[4][2]=4\n",
    "grid[4][3]=6\n",
    "grid[4][5]=2\n",
    "#grid[4][6]=9\n",
    "#grid[5][1]=5\n",
    "grid[5][5]=3\n",
    "grid[5][7]=2\n",
    "grid[5][8]=8\n",
    "grid[6][2]=9\n",
    "grid[6][3]=3\n",
    "grid[6][7]=7\n",
    "grid[6][8]=4\n",
    "grid[7][1]=4\n",
    "grid[7][4]=5\n",
    "grid[7][7]=3\n",
    "grid[7][8]=6\n",
    "grid[8][0]=7\n",
    "grid[8][2]=3\n",
    "grid[8][4]=1\n",
    "grid[8][5]=8\n",
    "\n",
    "print(\"Input Grid\")\n",
    "print(grid)\n",
    "solve()"
   ]
  },
  {
   "cell_type": "code",
   "execution_count": 107,
   "metadata": {},
   "outputs": [
    {
     "name": "stdout",
     "output_type": "stream",
     "text": [
      "[[0 0 0 2 6 0 7 0 1]\n",
      " [6 8 0 0 7 0 0 9 0]\n",
      " [1 9 0 0 0 4 5 0 0]\n",
      " [8 2 0 1 0 0 0 4 0]\n",
      " [0 0 4 6 0 2 9 0 0]\n",
      " [0 5 0 0 0 3 0 2 8]\n",
      " [0 0 9 3 0 0 0 7 4]\n",
      " [0 4 0 0 5 0 0 3 6]\n",
      " [7 0 3 0 1 8 0 0 0]]\n"
     ]
    }
   ],
   "source": [
    "print(grid)"
   ]
  },
  {
   "cell_type": "code",
   "execution_count": 81,
   "metadata": {},
   "outputs": [
    {
     "data": {
      "text/plain": [
       "36"
      ]
     },
     "execution_count": 81,
     "metadata": {},
     "output_type": "execute_result"
    }
   ],
   "source": [
    "np.count_nonzero(grid)"
   ]
  },
  {
   "cell_type": "code",
   "execution_count": 84,
   "metadata": {},
   "outputs": [
    {
     "data": {
      "text/plain": [
       "81"
      ]
     },
     "execution_count": 84,
     "metadata": {},
     "output_type": "execute_result"
    }
   ],
   "source": [
    "grid.size"
   ]
  },
  {
   "cell_type": "code",
   "execution_count": null,
   "metadata": {},
   "outputs": [],
   "source": []
  }
 ],
 "metadata": {
  "kernelspec": {
   "display_name": "Python 3",
   "language": "python",
   "name": "python3"
  },
  "language_info": {
   "codemirror_mode": {
    "name": "ipython",
    "version": 3
   },
   "file_extension": ".py",
   "mimetype": "text/x-python",
   "name": "python",
   "nbconvert_exporter": "python",
   "pygments_lexer": "ipython3",
   "version": "3.6.5"
  }
 },
 "nbformat": 4,
 "nbformat_minor": 4
}
