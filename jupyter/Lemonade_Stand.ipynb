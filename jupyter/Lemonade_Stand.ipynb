{
 "cells": [
  {
   "cell_type": "markdown",
   "metadata": {},
   "source": [
    "# Mimi's Lemonade Stand\n",
    "\n",
    "## Summer Vacation\n",
    "\n",
    "It is summer vacation now, the weather is hot and and dry. Whenever Papa comes back from office, Mom makes some lemonade for him. <br>\n",
    "<hr>\n",
    "\n",
    "<img src=./images/man_drinking_Lemonade.jpg width=100px alt=\"Papa drinking lemonade\" border=\"5\">\n",
    "\n",
    "<hr>\n",
    "\n",
    "Mimi thinks there are lot of her neighbours who would like to have lemonade when they come back from work. <br>\n",
    "\n",
    "She decides to open a lemonade stand. "
   ]
  },
  {
   "cell_type": "markdown",
   "metadata": {},
   "source": [
    "## Mimi's Lemonade Stand\n",
    "\n",
    "She needs to make a list of all the things needed for making a lemonade stand:"
   ]
  },
  {
   "cell_type": "code",
   "execution_count": 2,
   "metadata": {},
   "outputs": [],
   "source": [
    "# list of items for lemonade stand\n",
    "lemonade_list=list([\"Table\", \"Chair\", \"Glasses\", \"Jug\"])"
   ]
  },
  {
   "cell_type": "code",
   "execution_count": 10,
   "metadata": {},
   "outputs": [],
   "source": [
    "# Question - 1\n",
    "# Print how this list looks now - \n"
   ]
  },
  {
   "cell_type": "markdown",
   "metadata": {},
   "source": [
    "Click __here__ to get the solution!\n",
    "<!--- \n",
    "print(\"My Lemonade List is: \", lemonade_list)\n",
    "\n",
    "--->"
   ]
  },
  {
   "cell_type": "code",
   "execution_count": 3,
   "metadata": {},
   "outputs": [],
   "source": [
    "# Question - 2\n",
    "# Get the number of items in lemonade_list?"
   ]
  },
  {
   "cell_type": "markdown",
   "metadata": {},
   "source": [
    "Click __here__ to get the solution!\n",
    "<!--- \n",
    "number_of_items=len(lemonade_list)\n",
    "print(\"Number of items in the lemonade_list is {}\".format(number_of_items))\n",
    "\n",
    "--->"
   ]
  },
  {
   "cell_type": "markdown",
   "metadata": {},
   "source": [
    "Mimi's Papa pointed out the in the list above __\"Glasses\"__ should be a at least 10 disposable glasses as well.<br>\n",
    "So, we should have these also list."
   ]
  },
  {
   "cell_type": "code",
   "execution_count": 5,
   "metadata": {},
   "outputs": [],
   "source": [
    "# Modify the lemonade_list by removing \"Glasses\" from it and adding another list of 10 numbers representing the glasses\n",
    "# Remove Glasses from the list.\n",
    "lemonade_list.remove(\"Glasses\")\n",
    "# create a list of glasses with numbered.\n",
    "numbered_glasses=[\"glass-1\", \n",
    "                  \"glass-2\",\n",
    "                  \"glass-3\",\n",
    "                  \"glass-4\",\n",
    "                  \"glass-5\",\n",
    "                  \"glass-6\",\n",
    "                  \"glass-7\",\n",
    "                  \"glass-8\",\n",
    "                  \"glass-9\",\n",
    "                  \"glass-10\",\n",
    "                 ]\n",
    "# add this list to the lemonade_list\n",
    "lemonade_list.append(numbered_glasses)"
   ]
  },
  {
   "cell_type": "code",
   "execution_count": 12,
   "metadata": {},
   "outputs": [],
   "source": [
    "# How does this list look like now?\n"
   ]
  },
  {
   "cell_type": "markdown",
   "metadata": {},
   "source": [
    "Click __here__ to get the solution!\n",
    "<!--- \n",
    "print(\"The new lemonade list is {}\".format(lemonade_list))\n",
    "--->"
   ]
  },
  {
   "cell_type": "markdown",
   "metadata": {},
   "source": [
    "## Mimi's Lemonade Stand \n",
    "<hr>\n",
    "<img src=\"./images/a-cartoon-girl-manages-a-lemonade-stand.jpg\" width=300px>\n",
    "<hr>"
   ]
  },
  {
   "cell_type": "code",
   "execution_count": null,
   "metadata": {},
   "outputs": [],
   "source": []
  }
 ],
 "metadata": {
  "kernelspec": {
   "display_name": "Python 3",
   "language": "python",
   "name": "python3"
  },
  "language_info": {
   "codemirror_mode": {
    "name": "ipython",
    "version": 3
   },
   "file_extension": ".py",
   "mimetype": "text/x-python",
   "name": "python",
   "nbconvert_exporter": "python",
   "pygments_lexer": "ipython3",
   "version": "3.6.5"
  }
 },
 "nbformat": 4,
 "nbformat_minor": 4
}
